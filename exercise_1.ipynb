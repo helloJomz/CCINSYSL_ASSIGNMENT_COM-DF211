{
  "cells": [
    {
      "cell_type": "markdown",
      "metadata": {
        "id": "GBxi4CrfzeYk"
      },
      "source": [
        "# Exercise 1\n",
        "\n",
        "Learning through data\n",
        "\n",
        "Instruction: Define a function that will accept input and return the output that matches the examples given for each number"
      ]
    },
    {
      "cell_type": "markdown",
      "metadata": {
        "id": "TGoRtGThzeYm"
      },
      "source": [
        "1. Find the function **f(x)**  \n",
        "\n",
        "| Input  | CAT | DOG | APPLE | BANANA | ORANGE |  \n",
        "| --- | --- | --- | --- | --- | --- |\n",
        "| Output | cat | dog | apple | banana | orange\n"
      ]
    },
    {
      "cell_type": "code",
      "execution_count": 3,
      "metadata": {
        "id": "qVeYW_ypzeYn",
        "colab": {
          "base_uri": "https://localhost:8080/"
        },
        "outputId": "9a2cada6-47bd-458d-ea34-7556b53f9d7c"
      },
      "outputs": [
        {
          "output_type": "stream",
          "name": "stdout",
          "text": [
            "cat dog apple banana orange "
          ]
        }
      ],
      "source": [
        "# Answer here\n",
        "\n",
        "list_words = [\"CAT\", \"DOG\", \"APPLE\", \"BANANA\", \"ORANGE\"]\n",
        "\n",
        "def lowercasing(list_words):\n",
        "  for i in list_words:\n",
        "    print(i.lower(), end=\" \")\n",
        "\n",
        "lowercasing(list_words)"
      ]
    },
    {
      "cell_type": "markdown",
      "metadata": {
        "id": "ljHhD6M1zeYn"
      },
      "source": [
        "2. Find the function **f(x)**  \n",
        "\n",
        "| Input  | CAT | DOG | APPLE | BANANA | ORANGE |  \n",
        "| --- | --- | --- | --- | --- | --- |\n",
        "| Output | CT | DG | PPL | BNN | RNG\n"
      ]
    },
    {
      "cell_type": "code",
      "execution_count": 64,
      "metadata": {
        "id": "O1IYoTnrzeYo",
        "colab": {
          "base_uri": "https://localhost:8080/"
        },
        "outputId": "f419dc06-ba64-4c81-d44d-369429bd3975"
      },
      "outputs": [
        {
          "output_type": "stream",
          "name": "stdout",
          "text": [
            "CT DG PPL BNN RNG "
          ]
        }
      ],
      "source": [
        "list_words = [\"CAT\", \"DOG\", \"APPLE\", \"BANANA\", \"ORANGE\"]\n",
        "vowels = [\"a\", \"e\", \"i\", \"o\", \"u\"]\n",
        "\n",
        "\n",
        "def remove_vowels(list_words):\n",
        "  for i in range(len(list_words)):\n",
        "      for c in list_words[i]:\n",
        "        result = \"\"\n",
        "        if c.lower() not in vowels:\n",
        "          result += c\n",
        "          print(result, end=\"\")\n",
        "      print(end=\" \")\n",
        "\n",
        "remove_vowels(list_words)\n",
        ""
      ]
    },
    {
      "cell_type": "markdown",
      "metadata": {
        "id": "jRfDgREezeYo"
      },
      "source": [
        "3. Find the function **f(x)**  \n",
        "\n",
        "| Input  | CAT | DOG | APPLE | BANANA | ORANGE |  \n",
        "| --- | --- | --- | --- | --- | --- |\n",
        "| Output | TAC | GOD | ELPPA | ANANAB | EGNARO\n"
      ]
    },
    {
      "cell_type": "code",
      "execution_count": 95,
      "metadata": {
        "id": "xplN1Wi9zeYp",
        "colab": {
          "base_uri": "https://localhost:8080/"
        },
        "outputId": "fc8d04ce-9bd9-4401-bac6-85abaa88d22b"
      },
      "outputs": [
        {
          "output_type": "stream",
          "name": "stdout",
          "text": [
            "TAC GOD ELPPA ANANAB EGNARO "
          ]
        }
      ],
      "source": [
        "# Answer here\n",
        "\n",
        "list_words = [\"CAT\", \"DOG\", \"APPLE\", \"BANANA\", \"ORANGE\"]\n",
        "\n",
        "def reverse(list_words):\n",
        "  for i in list_words:\n",
        "    print(i[::-1], end=\" \")\n",
        "\n",
        "reverse(list_words)\n",
        ""
      ]
    },
    {
      "cell_type": "markdown",
      "metadata": {
        "id": "k4JMcMspzeYp"
      },
      "source": [
        "4. Find the function **f(x)**  \n",
        "\n",
        "| Input  | 2 | 3 | 4 | 5 | 6 |  \n",
        "| --- | --- | --- | --- | --- | --- |\n",
        "| Output | 4 | 9 | 16 | 25 | 36\n"
      ]
    },
    {
      "cell_type": "code",
      "execution_count": 102,
      "metadata": {
        "id": "dZrQ2PYVzeYp",
        "colab": {
          "base_uri": "https://localhost:8080/"
        },
        "outputId": "15c4b9bd-8a8c-4cd7-8595-ed0564e58af8"
      },
      "outputs": [
        {
          "output_type": "stream",
          "name": "stdout",
          "text": [
            "4 9 16 25 36 "
          ]
        }
      ],
      "source": [
        "# Answer here\n",
        "\n",
        "list_numbers = [2, 3, 4, 5, 6]\n",
        "\n",
        "def squared(list_numbers):\n",
        "  for i in list_numbers:\n",
        "    answer = i * i\n",
        "    print(answer, end=\" \")\n",
        "\n",
        "squared(list_numbers)"
      ]
    },
    {
      "cell_type": "markdown",
      "metadata": {
        "id": "6DonFwqSzeYq"
      },
      "source": [
        "5. Find the function **f(x)**  \n",
        "\n",
        "| Input  | 64 | 27 | 1000 | 729 | 512 |  \n",
        "| --- | --- | --- | --- | --- | --- |\n",
        "| Output | 4 | 3 | 10 | 9 | 8"
      ]
    },
    {
      "cell_type": "code",
      "execution_count": 106,
      "metadata": {
        "id": "EgBiiHMozeYq",
        "colab": {
          "base_uri": "https://localhost:8080/"
        },
        "outputId": "8d2285bd-916d-4352-a1e4-e5d72ed8ef9f"
      },
      "outputs": [
        {
          "output_type": "stream",
          "name": "stdout",
          "text": [
            "4 3 10 9 8 "
          ]
        }
      ],
      "source": [
        "# Answer here\n",
        "\n",
        "list_numbers = [64, 27, 1000, 729, 512]\n",
        "\n",
        "def cube_root(list_numbers):\n",
        "   for i in list_numbers:\n",
        "    answer = i ** (1. / 3)\n",
        "    print(round(answer), end=\" \")\n",
        "\n",
        "cube_root(list_numbers)"
      ]
    }
  ],
  "metadata": {
    "kernelspec": {
      "display_name": "myenvironment",
      "language": "python",
      "name": "python3"
    },
    "language_info": {
      "codemirror_mode": {
        "name": "ipython",
        "version": 3
      },
      "file_extension": ".py",
      "mimetype": "text/x-python",
      "name": "python",
      "nbconvert_exporter": "python",
      "pygments_lexer": "ipython3",
      "version": "3.9.17"
    },
    "orig_nbformat": 4,
    "colab": {
      "provenance": []
    }
  },
  "nbformat": 4,
  "nbformat_minor": 0
}